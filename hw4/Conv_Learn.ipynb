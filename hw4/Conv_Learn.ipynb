{
 "cells": [
  {
   "cell_type": "code",
   "execution_count": 57,
   "metadata": {},
   "outputs": [],
   "source": [
    "import numpy as np\n",
    "import torch\n",
    "import torch.nn as nn"
   ]
  },
  {
   "cell_type": "markdown",
   "metadata": {},
   "source": [
    "For `DATA` We use NHWC, while torch use NCWH \n",
    "\n",
    "For `WEIGHT` We use [KERNEL_SIZE][KERNEL_SIZE][IN_CHANNELS][OUT_CHANNELS], while torch use out x in x kernel x kernel"
   ]
  },
  {
   "cell_type": "code",
   "execution_count": 58,
   "metadata": {},
   "outputs": [],
   "source": [
    "def conv_reference(Z, weight):\n",
    "  # NHWC -> NCHW\n",
    "  Z_torch = torch.tensor(Z).permute(0,3,1,2)\n",
    "  # KKIO -> OIKK\n",
    "  W_torch = torch.tensor(weight).permute(3,2,0,1)\n",
    "  # run convolution\n",
    "  out = nn.functional.conv2d(Z_torch, W_torch)\n",
    "  # NCHW -> NHWC\n",
    "  return out.permute(0,2,3,1).contiguous().numpy()"
   ]
  },
  {
   "cell_type": "code",
   "execution_count": 59,
   "metadata": {},
   "outputs": [],
   "source": [
    "Z = np.random.randn(4,8,8,3) # NHWC\n",
    "W = np.random.randn(3,3,3,4) # KKIO"
   ]
  },
  {
   "cell_type": "code",
   "execution_count": 60,
   "metadata": {},
   "outputs": [
    {
     "name": "stdout",
     "output_type": "stream",
     "text": [
      "(4, 6, 6, 4)\n"
     ]
    }
   ],
   "source": [
    "out_ref = conv_reference(Z, W)\n",
    "print(out_ref.shape)"
   ]
  },
  {
   "cell_type": "code",
   "execution_count": 61,
   "metadata": {},
   "outputs": [],
   "source": [
    "def conv_mul(Z : np.ndarray, weight : np.ndarray):\n",
    "  out_shape = (Z.shape[0], Z.shape[1] - weight.shape[0] + 1, Z.shape[2] - weight.shape[1] + 1, weight.shape[3])\n",
    "  out = np.zeros(out_shape)\n",
    "  for x in range(weight.shape[0]):\n",
    "    for y in range(weight.shape[1]):\n",
    "      out += Z[:, x:x+out_shape[1], y:y+out_shape[2], :] @ weight[x, y, :, :]\n",
    "  return out"
   ]
  },
  {
   "cell_type": "code",
   "execution_count": 62,
   "metadata": {},
   "outputs": [
    {
     "name": "stdout",
     "output_type": "stream",
     "text": [
      "2.6108350672945522e-14\n"
     ]
    }
   ],
   "source": [
    "out_conv_mul = conv_mul(Z, W)\n",
    "print(np.linalg.norm(out_ref - out_conv_mul))"
   ]
  },
  {
   "cell_type": "code",
   "execution_count": 68,
   "metadata": {},
   "outputs": [],
   "source": [
    "Z = np.arange(6*6, dtype=np.float32).reshape(6,6)\n",
    "W = np.arange(3*3, dtype=np.float32).reshape(3,3)"
   ]
  },
  {
   "cell_type": "code",
   "execution_count": 64,
   "metadata": {},
   "outputs": [
    {
     "data": {
      "text/plain": [
       "array([[[[ 0.,  1.,  2.],\n",
       "         [ 6.,  7.,  8.],\n",
       "         [12., 13., 14.]],\n",
       "\n",
       "        [[ 3.,  4.,  5.],\n",
       "         [ 9., 10., 11.],\n",
       "         [15., 16., 17.]]],\n",
       "\n",
       "\n",
       "       [[[18., 19., 20.],\n",
       "         [24., 25., 26.],\n",
       "         [30., 31., 32.]],\n",
       "\n",
       "        [[21., 22., 23.],\n",
       "         [27., 28., 29.],\n",
       "         [33., 34., 35.]]]], dtype=float32)"
      ]
     },
     "execution_count": 64,
     "metadata": {},
     "output_type": "execute_result"
    }
   ],
   "source": [
    "B = np.lib.stride_tricks.as_strided(Z,shape=(2,2,3,3), strides=np.array((18,3,6,1))*4)\n",
    "B = np.ascontiguousarray(B)\n",
    "B"
   ]
  },
  {
   "cell_type": "code",
   "execution_count": 65,
   "metadata": {},
   "outputs": [
    {
     "data": {
      "text/plain": [
       "array([[[[ 0.,  1.,  2.],\n",
       "         [ 6.,  7.,  8.],\n",
       "         [12., 13., 14.]],\n",
       "\n",
       "        [[ 1.,  2.,  3.],\n",
       "         [ 7.,  8.,  9.],\n",
       "         [13., 14., 15.]],\n",
       "\n",
       "        [[ 2.,  3.,  4.],\n",
       "         [ 8.,  9., 10.],\n",
       "         [14., 15., 16.]],\n",
       "\n",
       "        [[ 3.,  4.,  5.],\n",
       "         [ 9., 10., 11.],\n",
       "         [15., 16., 17.]]],\n",
       "\n",
       "\n",
       "       [[[ 6.,  7.,  8.],\n",
       "         [12., 13., 14.],\n",
       "         [18., 19., 20.]],\n",
       "\n",
       "        [[ 7.,  8.,  9.],\n",
       "         [13., 14., 15.],\n",
       "         [19., 20., 21.]],\n",
       "\n",
       "        [[ 8.,  9., 10.],\n",
       "         [14., 15., 16.],\n",
       "         [20., 21., 22.]],\n",
       "\n",
       "        [[ 9., 10., 11.],\n",
       "         [15., 16., 17.],\n",
       "         [21., 22., 23.]]],\n",
       "\n",
       "\n",
       "       [[[12., 13., 14.],\n",
       "         [18., 19., 20.],\n",
       "         [24., 25., 26.]],\n",
       "\n",
       "        [[13., 14., 15.],\n",
       "         [19., 20., 21.],\n",
       "         [25., 26., 27.]],\n",
       "\n",
       "        [[14., 15., 16.],\n",
       "         [20., 21., 22.],\n",
       "         [26., 27., 28.]],\n",
       "\n",
       "        [[15., 16., 17.],\n",
       "         [21., 22., 23.],\n",
       "         [27., 28., 29.]]],\n",
       "\n",
       "\n",
       "       [[[18., 19., 20.],\n",
       "         [24., 25., 26.],\n",
       "         [30., 31., 32.]],\n",
       "\n",
       "        [[19., 20., 21.],\n",
       "         [25., 26., 27.],\n",
       "         [31., 32., 33.]],\n",
       "\n",
       "        [[20., 21., 22.],\n",
       "         [26., 27., 28.],\n",
       "         [32., 33., 34.]],\n",
       "\n",
       "        [[21., 22., 23.],\n",
       "         [27., 28., 29.],\n",
       "         [33., 34., 35.]]]], dtype=float32)"
      ]
     },
     "execution_count": 65,
     "metadata": {},
     "output_type": "execute_result"
    }
   ],
   "source": [
    "C = np.lib.stride_tricks.as_strided(Z,shape=(4,4,3,3), strides=np.array((6,1,6,1))*4)\n",
    "C = np.ascontiguousarray(C)\n",
    "C"
   ]
  },
  {
   "cell_type": "code",
   "execution_count": 69,
   "metadata": {},
   "outputs": [
    {
     "name": "stdout",
     "output_type": "stream",
     "text": [
      "(4, 4, 3, 3) (3, 3)\n"
     ]
    }
   ],
   "source": [
    "print(C.shape, W.shape)"
   ]
  },
  {
   "cell_type": "code",
   "execution_count": 70,
   "metadata": {},
   "outputs": [
    {
     "data": {
      "text/plain": [
       "array([[ 366.,  402.,  438.,  474.],\n",
       "       [ 582.,  618.,  654.,  690.],\n",
       "       [ 798.,  834.,  870.,  906.],\n",
       "       [1014., 1050., 1086., 1122.]], dtype=float32)"
      ]
     },
     "execution_count": 70,
     "metadata": {},
     "output_type": "execute_result"
    }
   ],
   "source": [
    "(C.reshape(-1,9) @ W.reshape(9, -1)).reshape(4,4)"
   ]
  },
  {
   "cell_type": "code",
   "execution_count": 71,
   "metadata": {},
   "outputs": [],
   "source": [
    "Z = np.random.randn(4,8,8,3) # NHWC\n",
    "W = np.random.randn(3,3,3,4) # KKIO"
   ]
  },
  {
   "cell_type": "code",
   "execution_count": 72,
   "metadata": {},
   "outputs": [],
   "source": [
    "def conv_im2col(Z : np.ndarray, weight : np.ndarray):\n",
    "  N, H, W, C = Z.shape\n",
    "  K1, K2, INC, OUTC = weight.shape\n",
    "  assert K1 == K2 and C == INC\n",
    "  K = K1\n",
    "\n",
    "  A = np.lib.stride_tricks.as_strided(\n",
    "    Z,\n",
    "    shape=(N, H-K+1, W-K+1, K, K, C),\n",
    "    strides=(Z.strides[0], Z.strides[1], Z.strides[2], Z.strides[1], Z.strides[2], Z.strides[3])\n",
    "  )\n",
    "  mul_size = K * K * C\n",
    "  out = (A.reshape(-1, mul_size) @ weight.reshape(mul_size, -1)).reshape(N, H-K+1, W-K+1, OUTC)\n",
    "  return out\n"
   ]
  },
  {
   "cell_type": "code",
   "execution_count": 73,
   "metadata": {},
   "outputs": [],
   "source": [
    "out_conv_im2col = conv_im2col(Z, W)\n",
    "out_ref = conv_reference(Z, W)"
   ]
  },
  {
   "cell_type": "code",
   "execution_count": 74,
   "metadata": {},
   "outputs": [
    {
     "name": "stdout",
     "output_type": "stream",
     "text": [
      "2.3670215887952075e-14\n"
     ]
    }
   ],
   "source": [
    "print(np.linalg.norm(out_ref - out_conv_im2col))"
   ]
  }
 ],
 "metadata": {
  "kernelspec": {
   "display_name": "Python 3",
   "language": "python",
   "name": "python3"
  },
  "language_info": {
   "codemirror_mode": {
    "name": "ipython",
    "version": 3
   },
   "file_extension": ".py",
   "mimetype": "text/x-python",
   "name": "python",
   "nbconvert_exporter": "python",
   "pygments_lexer": "ipython3",
   "version": "3.8.10"
  }
 },
 "nbformat": 4,
 "nbformat_minor": 2
}
